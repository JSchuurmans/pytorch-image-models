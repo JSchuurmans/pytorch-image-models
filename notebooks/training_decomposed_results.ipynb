{
 "cells": [
  {
   "cell_type": "code",
   "execution_count": 1,
   "metadata": {},
   "outputs": [],
   "source": [
    "from pathlib import Path\n",
    "\n",
    "import pandas as pd"
   ]
  },
  {
   "cell_type": "code",
   "execution_count": 5,
   "metadata": {},
   "outputs": [],
   "source": [
    "rootdir = Path(\"/scratch/jetzeschuurman/imagenet/logs/efficientnet_b2-256-tucker-0.75-k1x1/\")\n",
    "exp_0 = \"20211220-125526\"\n",
    "exp_3 = \"20211220-182532\"\n",
    "exp_4 = \"20211220-203454\"\n",
    "\n",
    "sum_0 = pd.read_csv(rootdir/exp_0/\"summary.csv\")\n",
    "sum_3 = pd.read_csv(rootdir/exp_3/\"summary.csv\")\n",
    "sum_4 = pd.read_csv(rootdir/exp_4/\"summary.csv\")\n",
    "\n",
    "\n",
    "m_sum_0 = pd.read_csv(rootdir/exp_0/\"micro_summary.csv\") # TODO this file is a mess\n",
    "m_sum_3 = pd.read_csv(rootdir/exp_3/\"micro_summary.csv\", header=None)\n",
    "m_sum_4 = pd.read_csv(rootdir/exp_4/\"micro_summary.csv\", header=None)\n"
   ]
  },
  {
   "cell_type": "code",
   "execution_count": 6,
   "metadata": {},
   "outputs": [],
   "source": [
    "sum_0.set_index('epoch', inplace=True)\n",
    "sum_3.set_index('epoch', inplace=True)\n",
    "sum_4.set_index('epoch', inplace=True)\n"
   ]
  },
  {
   "cell_type": "code",
   "execution_count": 7,
   "metadata": {},
   "outputs": [],
   "source": [
    "summary = sum_0.append(sum_3).append(sum_4)"
   ]
  },
  {
   "cell_type": "code",
   "execution_count": 8,
   "metadata": {},
   "outputs": [
    {
     "data": {
      "text/html": [
       "<div>\n",
       "<style scoped>\n",
       "    .dataframe tbody tr th:only-of-type {\n",
       "        vertical-align: middle;\n",
       "    }\n",
       "\n",
       "    .dataframe tbody tr th {\n",
       "        vertical-align: top;\n",
       "    }\n",
       "\n",
       "    .dataframe thead th {\n",
       "        text-align: right;\n",
       "    }\n",
       "</style>\n",
       "<table border=\"1\" class=\"dataframe\">\n",
       "  <thead>\n",
       "    <tr style=\"text-align: right;\">\n",
       "      <th></th>\n",
       "      <th>train_loss</th>\n",
       "      <th>eval_loss</th>\n",
       "      <th>eval_top1</th>\n",
       "      <th>eval_top5</th>\n",
       "    </tr>\n",
       "    <tr>\n",
       "      <th>epoch</th>\n",
       "      <th></th>\n",
       "      <th></th>\n",
       "      <th></th>\n",
       "      <th></th>\n",
       "    </tr>\n",
       "  </thead>\n",
       "  <tbody>\n",
       "    <tr>\n",
       "      <th>0</th>\n",
       "      <td>5.402969</td>\n",
       "      <td>3.493483</td>\n",
       "      <td>28.702737</td>\n",
       "      <td>53.972277</td>\n",
       "    </tr>\n",
       "    <tr>\n",
       "      <th>1</th>\n",
       "      <td>4.675562</td>\n",
       "      <td>2.987208</td>\n",
       "      <td>37.037638</td>\n",
       "      <td>63.202143</td>\n",
       "    </tr>\n",
       "    <tr>\n",
       "      <th>2</th>\n",
       "      <td>4.429930</td>\n",
       "      <td>2.716685</td>\n",
       "      <td>41.835920</td>\n",
       "      <td>67.830814</td>\n",
       "    </tr>\n",
       "    <tr>\n",
       "      <th>3</th>\n",
       "      <td>4.270577</td>\n",
       "      <td>2.573699</td>\n",
       "      <td>44.447757</td>\n",
       "      <td>70.085243</td>\n",
       "    </tr>\n",
       "    <tr>\n",
       "      <th>4</th>\n",
       "      <td>4.110983</td>\n",
       "      <td>2.469769</td>\n",
       "      <td>46.209901</td>\n",
       "      <td>71.643900</td>\n",
       "    </tr>\n",
       "    <tr>\n",
       "      <th>5</th>\n",
       "      <td>4.099611</td>\n",
       "      <td>2.407274</td>\n",
       "      <td>47.580995</td>\n",
       "      <td>72.982523</td>\n",
       "    </tr>\n",
       "    <tr>\n",
       "      <th>6</th>\n",
       "      <td>4.027921</td>\n",
       "      <td>2.335200</td>\n",
       "      <td>48.970197</td>\n",
       "      <td>74.104937</td>\n",
       "    </tr>\n",
       "    <tr>\n",
       "      <th>7</th>\n",
       "      <td>4.002997</td>\n",
       "      <td>2.307409</td>\n",
       "      <td>49.716782</td>\n",
       "      <td>74.689873</td>\n",
       "    </tr>\n",
       "    <tr>\n",
       "      <th>8</th>\n",
       "      <td>3.956446</td>\n",
       "      <td>2.252005</td>\n",
       "      <td>50.817965</td>\n",
       "      <td>75.522707</td>\n",
       "    </tr>\n",
       "    <tr>\n",
       "      <th>9</th>\n",
       "      <td>3.919999</td>\n",
       "      <td>2.199912</td>\n",
       "      <td>51.791297</td>\n",
       "      <td>76.292240</td>\n",
       "    </tr>\n",
       "  </tbody>\n",
       "</table>\n",
       "</div>"
      ],
      "text/plain": [
       "       train_loss  eval_loss  eval_top1  eval_top5\n",
       "epoch                                             \n",
       "0        5.402969   3.493483  28.702737  53.972277\n",
       "1        4.675562   2.987208  37.037638  63.202143\n",
       "2        4.429930   2.716685  41.835920  67.830814\n",
       "3        4.270577   2.573699  44.447757  70.085243\n",
       "4        4.110983   2.469769  46.209901  71.643900\n",
       "5        4.099611   2.407274  47.580995  72.982523\n",
       "6        4.027921   2.335200  48.970197  74.104937\n",
       "7        4.002997   2.307409  49.716782  74.689873\n",
       "8        3.956446   2.252005  50.817965  75.522707\n",
       "9        3.919999   2.199912  51.791297  76.292240"
      ]
     },
     "execution_count": 8,
     "metadata": {},
     "output_type": "execute_result"
    }
   ],
   "source": [
    "summary"
   ]
  },
  {
   "cell_type": "code",
   "execution_count": 9,
   "metadata": {},
   "outputs": [
    {
     "data": {
      "text/plain": [
       "<AxesSubplot:xlabel='epoch', ylabel='loss'>"
      ]
     },
     "execution_count": 9,
     "metadata": {},
     "output_type": "execute_result"
    },
    {
     "data": {
      "image/png": "[encoded data removed]",
      "text/plain": [
       "<Figure size 432x288 with 1 Axes>"
      ]
     },
     "metadata": {
      "needs_background": "light"
     },
     "output_type": "display_data"
    }
   ],
   "source": [
    "summary[['train_loss', 'eval_loss']].plot(ylabel='loss')"
   ]
  },
  {
   "cell_type": "code",
   "execution_count": 10,
   "metadata": {},
   "outputs": [
    {
     "data": {
      "text/plain": [
       "<AxesSubplot:xlabel='epoch', ylabel='accuracy (%)'>"
      ]
     },
     "execution_count": 10,
     "metadata": {},
     "output_type": "execute_result"
    },
    {
     "data": {
      "image/png": "[encoded data removed]",
      "text/plain": [
       "<Figure size 432x288 with 1 Axes>"
      ]
     },
     "metadata": {
      "needs_background": "light"
     },
     "output_type": "display_data"
    }
   ],
   "source": [
    "summary[['eval_top1','eval_top5']].plot(ylabel='accuracy (%)')"
   ]
  },
  {
   "cell_type": "code",
   "execution_count": 11,
   "metadata": {},
   "outputs": [],
   "source": [
    "m_sum_0.set_index('update_step', inplace=True)"
   ]
  },
  {
   "cell_type": "code",
   "execution_count": 12,
   "metadata": {},
   "outputs": [],
   "source": [
    "m_sum_3.rename(columns={0:'update_step', 1:'micro_train_loss'}, inplace=True)\n",
    "m_sum_3.set_index('update_step', inplace=True)"
   ]
  },
  {
   "cell_type": "code",
   "execution_count": 13,
   "metadata": {},
   "outputs": [],
   "source": [
    "m_sum_4.rename(columns={0:'update_step', 1:'micro_train_loss'}, inplace=True)\n",
    "m_sum_4.set_index('update_step', inplace=True)"
   ]
  },
  {
   "cell_type": "code",
   "execution_count": 14,
   "metadata": {},
   "outputs": [],
   "source": [
    "m_sum = m_sum_0.append(m_sum_3).append(m_sum_4)"
   ]
  },
  {
   "cell_type": "code",
   "execution_count": 15,
   "metadata": {},
   "outputs": [
    {
     "data": {
      "text/plain": [
       "<AxesSubplot:xlabel='update step', ylabel='loss'>"
      ]
     },
     "execution_count": 15,
     "metadata": {},
     "output_type": "execute_result"
    },
    {
     "data": {
      "image/png": "[encoded data removed]",
      "text/plain": [
       "<Figure size 432x288 with 1 Axes>"
      ]
     },
     "metadata": {
      "needs_background": "light"
     },
     "output_type": "display_data"
    }
   ],
   "source": [
    "m_sum[['micro_train_loss']].plot(ylabel='loss', xlabel='update step')"
   ]
  },
  {
   "cell_type": "code",
   "execution_count": null,
   "metadata": {},
   "outputs": [],
   "source": []
  }
 ],
 "metadata": {
  "interpreter": {
   "hash": "cbd63b9a061424cb3fd16a8a8afb6ee6101da6d0756a24761a653cc5f46e374f"
  },
  "kernelspec": {
   "display_name": "Python 3.6.9 64-bit ('venv2': venv)",
   "language": "python",
   "name": "python3"
  },
  "language_info": {
   "codemirror_mode": {
    "name": "ipython",
    "version": 3
   },
   "file_extension": ".py",
   "mimetype": "text/x-python",
   "name": "python",
   "nbconvert_exporter": "python",
   "pygments_lexer": "ipython3",
   "version": "3.6.9"
  },
  "orig_nbformat": 4
 },
 "nbformat": 4,
 "nbformat_minor": 2
}
